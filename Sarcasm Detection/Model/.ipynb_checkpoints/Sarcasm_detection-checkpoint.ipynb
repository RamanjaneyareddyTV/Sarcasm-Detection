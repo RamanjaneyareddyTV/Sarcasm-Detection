{
 "cells": [
  {
   "cell_type": "markdown",
   "id": "61bef8b4",
   "metadata": {},
   "source": [
    "### Contents\n",
    "* [**Abstract**](#abstract)\n",
    "* [**Dataset**](#dataset)\n",
    "* [**Importing Dataset and the required libraries**](#import)\n",
    "* [**Visualizing the Target distribution**](#graph)\n",
    "* [**Data Cleaning and Pre-processing**](#cleaning)\n",
    "* [**Classification Algorithms**](#part-b)\n",
    "    * [Spliting the dataset](#train-test-split)\n",
    "    * [Logistic Regression](#log)\n",
    "    * [Random Forest Classifier](#rfc)\n",
    "    * [Convolution Neural Network](#cnn)\n",
    "* [**Conclusion**](#conclusion)"
   ]
  },
  {
   "cell_type": "markdown",
   "id": "5e2dff5e",
   "metadata": {},
   "source": [
    "### Abstract\n",
    "Sarcasm detection is a very narrow research field in NLP, a specific case of sentiment analysis where instead of detecting a sentiment in the whole spectrum, the focus is on sarcasm. Therefore the task of this field is to detect if a given text is sarcastic or not.\n",
    "\n",
    "This dataset is large compared to the other datasets, yet very small compared to the datasets used in DL models. It is imbalanced, meaning there are more non-sarcastic tweets than sarcastic, which is realistic since sarcasm is very rare in our daily interactions and datasets should represent reality as best as they can. And regarding the type of sarcasm, this dataset captures intended sarcasm, this tweet is labelled as sarcastic because the author wants it to be, it doesn’t consider people’s perception.\n"
   ]
  },
  {
   "cell_type": "markdown",
   "id": "4ac59993",
   "metadata": {},
   "source": [
    "<a id = 'dataset'></a>\n",
    "### Dataset\n",
    "The dataset which is used in this project, is collected from Kaggle. Here is the link of the dataset : https://www.kaggle.com/rmisra/news-headlines-dataset-for-sarcasm-detection?select=Sarcasm_Headlines_Dataset.json"
   ]
  },
  {
   "cell_type": "markdown",
   "id": "8931a29f",
   "metadata": {},
   "source": [
    "<a id = 'import'></a>\n",
    "### Importing the Dataset and the required libraries"
   ]
  },
  {
   "cell_type": "code",
   "execution_count": 1,
   "id": "18c1cd4d",
   "metadata": {
    "papermill": {
     "duration": 8.09314,
     "end_time": "2021-05-23T06:12:38.551725",
     "exception": false,
     "start_time": "2021-05-23T06:12:30.458585",
     "status": "completed"
    },
    "tags": []
   },
   "outputs": [],
   "source": [
    "import pandas as pd\n",
    "import numpy as np\n",
    "import matplotlib.pyplot as plt\n",
    "import seaborn as sns\n",
    "import spacy\n",
    "from sklearn.feature_extraction.text import TfidfVectorizer\n",
    "from sklearn.preprocessing import LabelEncoder\n",
    "from sklearn.model_selection import train_test_split\n",
    "from sklearn.linear_model import LogisticRegression, Lasso, Huber, RidgeClassifier\n",
    "from sklearn.ensemble import RandomForestClassifier\n",
    "from sklearn.metrics import classification_report\n",
    "import re\n",
    "import nltk\n",
    "from nltk.corpus import stopwords\n",
    "from nltk.stem import WordNetLemmatizer\n",
    "from nltk.stem.porter import *\n",
    "from nltk.stem.snowball import SnowballStemmer\n",
    "import tensorflow as tf\n",
    "import json"
   ]
  },
  {
   "cell_type": "code",
   "execution_count": 2,
   "id": "892683b0",
   "metadata": {
    "papermill": {
     "duration": 18.407694,
     "end_time": "2021-05-23T06:12:56.985108",
     "exception": false,
     "start_time": "2021-05-23T06:12:38.577414",
     "status": "completed"
    },
    "tags": []
   },
   "outputs": [
    {
     "name": "stderr",
     "output_type": "stream",
     "text": [
      "[nltk_data] Downloading package stopwords to\n",
      "[nltk_data]     C:\\Users\\Raman\\AppData\\Roaming\\nltk_data...\n",
      "[nltk_data]   Package stopwords is already up-to-date!\n",
      "[nltk_data] Downloading package wordnet to\n",
      "[nltk_data]     C:\\Users\\Raman\\AppData\\Roaming\\nltk_data...\n",
      "[nltk_data]   Package wordnet is already up-to-date!\n"
     ]
    },
    {
     "name": "stdout",
     "output_type": "stream",
     "text": [
      "Collecting en-core-web-md==3.2.0\n",
      "  Downloading https://github.com/explosion/spacy-models/releases/download/en_core_web_md-3.2.0/en_core_web_md-3.2.0-py3-none-any.whl (45.7 MB)\n",
      "Requirement already satisfied: spacy<3.3.0,>=3.2.0 in c:\\users\\raman\\appdata\\local\\programs\\python\\python39\\lib\\site-packages (from en-core-web-md==3.2.0) (3.2.1)\n",
      "Requirement already satisfied: setuptools in c:\\users\\raman\\appdata\\local\\programs\\python\\python39\\lib\\site-packages (from spacy<3.3.0,>=3.2.0->en-core-web-md==3.2.0) (58.1.0)\n",
      "Requirement already satisfied: spacy-legacy<3.1.0,>=3.0.8 in c:\\users\\raman\\appdata\\local\\programs\\python\\python39\\lib\\site-packages (from spacy<3.3.0,>=3.2.0->en-core-web-md==3.2.0) (3.0.8)\n",
      "Requirement already satisfied: typer<0.5.0,>=0.3.0 in c:\\users\\raman\\appdata\\local\\programs\\python\\python39\\lib\\site-packages (from spacy<3.3.0,>=3.2.0->en-core-web-md==3.2.0) (0.4.0)\n",
      "Requirement already satisfied: pathy>=0.3.5 in c:\\users\\raman\\appdata\\local\\programs\\python\\python39\\lib\\site-packages (from spacy<3.3.0,>=3.2.0->en-core-web-md==3.2.0) (0.6.1)\n",
      "Requirement already satisfied: blis<0.8.0,>=0.4.0 in c:\\users\\raman\\appdata\\local\\programs\\python\\python39\\lib\\site-packages (from spacy<3.3.0,>=3.2.0->en-core-web-md==3.2.0) (0.7.5)\n",
      "Requirement already satisfied: murmurhash<1.1.0,>=0.28.0 in c:\\users\\raman\\appdata\\local\\programs\\python\\python39\\lib\\site-packages (from spacy<3.3.0,>=3.2.0->en-core-web-md==3.2.0) (1.0.6)\n",
      "Requirement already satisfied: requests<3.0.0,>=2.13.0 in c:\\users\\raman\\appdata\\local\\programs\\python\\python39\\lib\\site-packages (from spacy<3.3.0,>=3.2.0->en-core-web-md==3.2.0) (2.27.1)\n",
      "Requirement already satisfied: preshed<3.1.0,>=3.0.2 in c:\\users\\raman\\appdata\\local\\programs\\python\\python39\\lib\\site-packages (from spacy<3.3.0,>=3.2.0->en-core-web-md==3.2.0) (3.0.6)\n",
      "Requirement already satisfied: numpy>=1.15.0 in c:\\users\\raman\\appdata\\local\\programs\\python\\python39\\lib\\site-packages (from spacy<3.3.0,>=3.2.0->en-core-web-md==3.2.0) (1.21.5)\n",
      "Requirement already satisfied: wasabi<1.1.0,>=0.8.1 in c:\\users\\raman\\appdata\\local\\programs\\python\\python39\\lib\\site-packages (from spacy<3.3.0,>=3.2.0->en-core-web-md==3.2.0) (0.9.0)\n",
      "Requirement already satisfied: spacy-loggers<2.0.0,>=1.0.0 in c:\\users\\raman\\appdata\\local\\programs\\python\\python39\\lib\\site-packages (from spacy<3.3.0,>=3.2.0->en-core-web-md==3.2.0) (1.0.1)\n",
      "Requirement already satisfied: pydantic!=1.8,!=1.8.1,<1.9.0,>=1.7.4 in c:\\users\\raman\\appdata\\local\\programs\\python\\python39\\lib\\site-packages (from spacy<3.3.0,>=3.2.0->en-core-web-md==3.2.0) (1.8.2)\n",
      "Requirement already satisfied: langcodes<4.0.0,>=3.2.0 in c:\\users\\raman\\appdata\\local\\programs\\python\\python39\\lib\\site-packages (from spacy<3.3.0,>=3.2.0->en-core-web-md==3.2.0) (3.3.0)\n",
      "Requirement already satisfied: packaging>=20.0 in c:\\users\\raman\\appdata\\local\\programs\\python\\python39\\lib\\site-packages (from spacy<3.3.0,>=3.2.0->en-core-web-md==3.2.0) (21.3)\n",
      "Requirement already satisfied: cymem<2.1.0,>=2.0.2 in c:\\users\\raman\\appdata\\local\\programs\\python\\python39\\lib\\site-packages (from spacy<3.3.0,>=3.2.0->en-core-web-md==3.2.0) (2.0.6)\n",
      "Requirement already satisfied: catalogue<2.1.0,>=2.0.6 in c:\\users\\raman\\appdata\\local\\programs\\python\\python39\\lib\\site-packages (from spacy<3.3.0,>=3.2.0->en-core-web-md==3.2.0) (2.0.6)\n",
      "Requirement already satisfied: thinc<8.1.0,>=8.0.12 in c:\\users\\raman\\appdata\\local\\programs\\python\\python39\\lib\\site-packages (from spacy<3.3.0,>=3.2.0->en-core-web-md==3.2.0) (8.0.13)\n",
      "Requirement already satisfied: tqdm<5.0.0,>=4.38.0 in c:\\users\\raman\\appdata\\local\\programs\\python\\python39\\lib\\site-packages (from spacy<3.3.0,>=3.2.0->en-core-web-md==3.2.0) (4.62.3)\n",
      "Requirement already satisfied: jinja2 in c:\\users\\raman\\appdata\\local\\programs\\python\\python39\\lib\\site-packages (from spacy<3.3.0,>=3.2.0->en-core-web-md==3.2.0) (3.0.3)\n",
      "Requirement already satisfied: srsly<3.0.0,>=2.4.1 in c:\\users\\raman\\appdata\\local\\programs\\python\\python39\\lib\\site-packages (from spacy<3.3.0,>=3.2.0->en-core-web-md==3.2.0) (2.4.2)\n",
      "Requirement already satisfied: pyparsing!=3.0.5,>=2.0.2 in c:\\users\\raman\\appdata\\local\\programs\\python\\python39\\lib\\site-packages (from packaging>=20.0->spacy<3.3.0,>=3.2.0->en-core-web-md==3.2.0) (3.0.6)\n",
      "Requirement already satisfied: smart-open<6.0.0,>=5.0.0 in c:\\users\\raman\\appdata\\local\\programs\\python\\python39\\lib\\site-packages (from pathy>=0.3.5->spacy<3.3.0,>=3.2.0->en-core-web-md==3.2.0) (5.2.1)\n",
      "Requirement already satisfied: typing-extensions>=3.7.4.3 in c:\\users\\raman\\appdata\\local\\programs\\python\\python39\\lib\\site-packages (from pydantic!=1.8,!=1.8.1,<1.9.0,>=1.7.4->spacy<3.3.0,>=3.2.0->en-core-web-md==3.2.0) (4.0.1)\n",
      "Requirement already satisfied: idna<4,>=2.5 in c:\\users\\raman\\appdata\\local\\programs\\python\\python39\\lib\\site-packages (from requests<3.0.0,>=2.13.0->spacy<3.3.0,>=3.2.0->en-core-web-md==3.2.0) (2.5)\n",
      "Requirement already satisfied: charset-normalizer~=2.0.0 in c:\\users\\raman\\appdata\\local\\programs\\python\\python39\\lib\\site-packages (from requests<3.0.0,>=2.13.0->spacy<3.3.0,>=3.2.0->en-core-web-md==3.2.0) (2.0.10)\n",
      "Requirement already satisfied: urllib3<1.27,>=1.21.1 in c:\\users\\raman\\appdata\\local\\programs\\python\\python39\\lib\\site-packages (from requests<3.0.0,>=2.13.0->spacy<3.3.0,>=3.2.0->en-core-web-md==3.2.0) (1.22)\n",
      "Requirement already satisfied: certifi>=2017.4.17 in c:\\users\\raman\\appdata\\local\\programs\\python\\python39\\lib\\site-packages (from requests<3.0.0,>=2.13.0->spacy<3.3.0,>=3.2.0->en-core-web-md==3.2.0) (2021.10.8)\n",
      "Requirement already satisfied: colorama in c:\\users\\raman\\appdata\\local\\programs\\python\\python39\\lib\\site-packages (from tqdm<5.0.0,>=4.38.0->spacy<3.3.0,>=3.2.0->en-core-web-md==3.2.0) (0.4.4)\n",
      "Requirement already satisfied: click<9.0.0,>=7.1.1 in c:\\users\\raman\\appdata\\local\\programs\\python\\python39\\lib\\site-packages (from typer<0.5.0,>=0.3.0->spacy<3.3.0,>=3.2.0->en-core-web-md==3.2.0) (8.0.3)\n",
      "Requirement already satisfied: MarkupSafe>=2.0 in c:\\users\\raman\\appdata\\local\\programs\\python\\python39\\lib\\site-packages (from jinja2->spacy<3.3.0,>=3.2.0->en-core-web-md==3.2.0) (2.0.1)\n",
      "[+] Download and installation successful\n",
      "You can now load the package via spacy.load('en_core_web_md')\n"
     ]
    },
    {
     "name": "stderr",
     "output_type": "stream",
     "text": [
      "2022-02-16 10:54:55.407226: W tensorflow/stream_executor/platform/default/dso_loader.cc:64] Could not load dynamic library 'cudart64_110.dll'; dlerror: cudart64_110.dll not found\n",
      "2022-02-16 10:54:55.407280: I tensorflow/stream_executor/cuda/cudart_stub.cc:29] Ignore above cudart dlerror if you do not have a GPU set up on your machine.\n",
      "WARNING: You are using pip version 21.2.4; however, version 22.0.3 is available.\n",
      "You should consider upgrading via the 'C:\\Users\\Raman\\AppData\\Local\\Programs\\Python\\Python39\\python.exe -m pip install --upgrade pip' command.\n"
     ]
    }
   ],
   "source": [
    "nltk.download('stopwords')\n",
    "nltk.download('wordnet')\n",
    "! python -m spacy download en_core_web_md"
   ]
  },
  {
   "cell_type": "markdown",
   "id": "6f67d4fe",
   "metadata": {},
   "source": [
    "**Data distribution into two parts, for the better using purposes**"
   ]
  },
  {
   "cell_type": "code",
   "execution_count": 4,
   "id": "c83cf914",
   "metadata": {
    "papermill": {
     "duration": 0.418209,
     "end_time": "2021-05-23T06:12:57.489543",
     "exception": false,
     "start_time": "2021-05-23T06:12:57.071334",
     "status": "completed"
    },
    "tags": []
   },
   "outputs": [],
   "source": [
    "def parse_data(file):\n",
    "    for l in open(file,'r'):\n",
    "        yield json.loads(l)\n",
    "\n",
    "data_v1 = list(parse_data('D:/New folder (2)/Sarcasm Detection/Dataset/Sarcasm_Headlines_Dataset.json'))\n",
    "data_v2 = list(parse_data('D:/New folder (2)/Sarcasm Detection/Dataset/Sarcasm_Headlines_Dataset_v2.json'))"
   ]
  },
  {
   "cell_type": "markdown",
   "id": "778120e8",
   "metadata": {},
   "source": [
    "**Adding the labels as `text` and `Label`**"
   ]
  },
  {
   "cell_type": "code",
   "execution_count": 5,
   "id": "36c4cb22",
   "metadata": {
    "papermill": {
     "duration": 0.055446,
     "end_time": "2021-05-23T06:12:57.593636",
     "exception": false,
     "start_time": "2021-05-23T06:12:57.538190",
     "status": "completed"
    },
    "tags": []
   },
   "outputs": [],
   "source": [
    "def create_dataframe(list_of_dicts):\n",
    "    all_headlines = [i['headline'] for i in list_of_dicts]\n",
    "    all_labels = [i['is_sarcastic'] for i in list_of_dicts]\n",
    "    return pd.DataFrame({\"Text\":all_headlines, \"Label\":all_labels})"
   ]
  },
  {
   "cell_type": "markdown",
   "id": "f3637d0c",
   "metadata": {},
   "source": [
    "**Dividing the data into test and training set of data**"
   ]
  },
  {
   "cell_type": "code",
   "execution_count": 6,
   "id": "966772c9",
   "metadata": {
    "papermill": {
     "duration": 0.096838,
     "end_time": "2021-05-23T06:12:57.735295",
     "exception": false,
     "start_time": "2021-05-23T06:12:57.638457",
     "status": "completed"
    },
    "tags": []
   },
   "outputs": [],
   "source": [
    "train_df = create_dataframe(data_v1)\n",
    "test_df = create_dataframe(data_v2)"
   ]
  },
  {
   "cell_type": "code",
   "execution_count": 7,
   "id": "e9b3698c",
   "metadata": {
    "papermill": {
     "duration": 0.068241,
     "end_time": "2021-05-23T06:12:57.851249",
     "exception": false,
     "start_time": "2021-05-23T06:12:57.783008",
     "status": "completed"
    },
    "tags": []
   },
   "outputs": [
    {
     "name": "stdout",
     "output_type": "stream",
     "text": [
      "                                                Text  Label\n",
      "0  former versace store clerk sues over secret 'b...      0\n",
      "1  the 'roseanne' revival catches up to our thorn...      0\n",
      "2  mom starting to fear son's web series closest ...      1\n",
      "3  boehner just wants wife to listen, not come up...      1\n",
      "4  j.k. rowling wishes snape happy birthday in th...      0\n",
      "                                                Text  Label\n",
      "0  thirtysomething scientists unveil doomsday clo...      1\n",
      "1  dem rep. totally nails why congress is falling...      0\n",
      "2  eat your veggies: 9 deliciously different recipes      0\n",
      "3  inclement weather prevents liar from getting t...      1\n",
      "4  mother comes pretty close to using word 'strea...      1\n"
     ]
    }
   ],
   "source": [
    "print(train_df.head())\n",
    "print(test_df.head())"
   ]
  },
  {
   "cell_type": "markdown",
   "id": "a8446b48",
   "metadata": {},
   "source": [
    "**Shape of the Training Dataset and Test Dataset**"
   ]
  },
  {
   "cell_type": "code",
   "execution_count": 8,
   "id": "bd775ca0",
   "metadata": {
    "papermill": {
     "duration": 0.060062,
     "end_time": "2021-05-23T06:12:57.961633",
     "exception": false,
     "start_time": "2021-05-23T06:12:57.901571",
     "status": "completed"
    },
    "scrolled": true,
    "tags": []
   },
   "outputs": [
    {
     "name": "stdout",
     "output_type": "stream",
     "text": [
      "(26709, 2) (28619, 2)\n"
     ]
    }
   ],
   "source": [
    "print(train_df.shape, test_df.shape)"
   ]
  },
  {
   "cell_type": "markdown",
   "id": "45a91fde",
   "metadata": {},
   "source": [
    "**Concatenate the training and testing set into a single data frame for the model deployment**"
   ]
  },
  {
   "cell_type": "code",
   "execution_count": 9,
   "id": "ed916703",
   "metadata": {
    "papermill": {
     "duration": 0.062416,
     "end_time": "2021-05-23T06:12:58.071459",
     "exception": false,
     "start_time": "2021-05-23T06:12:58.009043",
     "status": "completed"
    },
    "tags": []
   },
   "outputs": [
    {
     "name": "stdout",
     "output_type": "stream",
     "text": [
      "(55328, 2)\n"
     ]
    }
   ],
   "source": [
    "all_data = pd.concat([train_df, test_df], axis=0)\n",
    "print(all_data.shape)"
   ]
  },
  {
   "cell_type": "markdown",
   "id": "6a45f001",
   "metadata": {},
   "source": [
    "<a id = 'graph'></a>\n",
    "### Visualizing the Target Distribution\n",
    "Data visualization is a technique that uses an array of static and interactive visuals within a specific context to help people understand and make sense of large amounts of data. The data is often displayed in a story format that visualizes patterns, trends and correlations that may otherwise go unnoticed."
   ]
  },
  {
   "cell_type": "code",
   "execution_count": 10,
   "id": "7e83fa4e",
   "metadata": {
    "papermill": {
     "duration": 0.196167,
     "end_time": "2021-05-23T06:12:58.315543",
     "exception": false,
     "start_time": "2021-05-23T06:12:58.119376",
     "status": "completed"
    },
    "tags": []
   },
   "outputs": [
    {
     "data": {
      "text/plain": [
       "Text(0.5, 1.0, 'Target Distribution')"
      ]
     },
     "execution_count": 10,
     "metadata": {},
     "output_type": "execute_result"
    },
    {
     "data": {
      "image/png": "[encoded data removed]",
      "text/plain": [
       "<Figure size 432x288 with 1 Axes>"
      ]
     },
     "metadata": {
      "needs_background": "light"
     },
     "output_type": "display_data"
    }
   ],
   "source": [
    "sns.countplot(x='Label', data=all_data);\n",
    "plt.title('Target Distribution')"
   ]
  },
  {
   "cell_type": "markdown",
   "id": "2b32a514",
   "metadata": {
    "papermill": {
     "duration": 0.049081,
     "end_time": "2021-05-23T06:12:58.414921",
     "exception": false,
     "start_time": "2021-05-23T06:12:58.365840",
     "status": "completed"
    },
    "tags": []
   },
   "source": [
    "<a id = 'cleaning'></a>\n",
    "### Data Cleaning and Data Preprocessing\n",
    "Data cleansing or data cleaning is the process of detecting and correcting (or removing) corrupt or inaccurate records from a record set, table, or database and refers to identifying incomplete, incorrect, inaccurate or irrelevant parts of the data and then replacing, modifying, or deleting the dirty or coarse data."
   ]
  },
  {
   "cell_type": "code",
   "execution_count": 11,
   "id": "110eb14f",
   "metadata": {
    "papermill": {
     "duration": 0.057481,
     "end_time": "2021-05-23T06:12:58.520952",
     "exception": false,
     "start_time": "2021-05-23T06:12:58.463471",
     "status": "completed"
    },
    "tags": []
   },
   "outputs": [],
   "source": [
    "def clean_text(x):\n",
    "  \n",
    "  #x = re.sub(r\"\\W\", \" \", x)\n",
    "  x = re.sub(r\"[0-9]\", \" \", x)\n",
    "  x = re.sub(r\"\\s{2,}\", \" \", x)\n",
    "  return x.strip()\n",
    "\n",
    "def clean_text2(x):\n",
    "  \n",
    "  #x = re.sub(r\"\\W\", \" \", x)\n",
    "  #x = re.sub(r\"[0-9]\", \" \", x)\n",
    "  x = re.sub(r\"\\s{2,}\", \" \", x)\n",
    "  x = re.sub(r\" s \", \" \", x)\n",
    "  \n",
    "  return x.strip()"
   ]
  },
  {
   "cell_type": "code",
   "execution_count": 12,
   "id": "01e3b019",
   "metadata": {
    "papermill": {
     "duration": 0.062169,
     "end_time": "2021-05-23T06:12:58.635412",
     "exception": false,
     "start_time": "2021-05-23T06:12:58.573243",
     "status": "completed"
    },
    "tags": []
   },
   "outputs": [],
   "source": [
    "#all_clean_text = [clean_text2(clean_text(i)) for i in all_data['Text'].tolist()]\n",
    "all_clean_text = all_data['Text'].tolist()"
   ]
  },
  {
   "cell_type": "markdown",
   "id": "56fab94e",
   "metadata": {},
   "source": [
    "-------------------------------"
   ]
  },
  {
   "cell_type": "markdown",
   "id": "67971ae9",
   "metadata": {},
   "source": [
    "<a id=\"part-b\"></a>\n",
    "## Classification Algorithms\n",
    "A classification model tries to draw some conclusion from the input values given for training. It will predict the class labels/categories for the new data.\n",
    "\n",
    "Here we are going to prepare several Classification machine learning models based on those we will do a comparative analysis that which model is better among them.\n",
    "\n",
    "A neural network is a series of algorithms that endeavors to recognize underlying relationships in a set of data through a process that mimics the way the human brain operates. In this sense, neural networks refer to systems of neurons, either organic or artificial in nature. Neural networks can adapt to changing input; so the network generates the best possible result without needing to redesign the output criteria. The concept of neural networks, which has its roots in artificial intelligence, is swiftly gaining popularity in the development of trading systems.\n",
    "\n",
    "Mainly I have used the Logistic Regression and Random Forest Classifier and a Sequential model which is Convolution Neural Network.\n",
    "\n",
    "We are using three different classification algorithms -\n",
    "* **Random Forest Classifier** : Random Forest is a popular machine learning algorithm that belongs to the supervised learning technique. It can be used for both Classification and Regression problems in ML. It is based on the concept of ensemble learning, which is a process of combining multiple classifiers to solve a complex problem and to improve the performance of the model.\n",
    "\n",
    "\n",
    "* **Logistic Regression** : Logistic regression is a statistical model that in its basic form uses a logistic function to model a binary dependent variable, although many more complex extensions exist. In regression analysis, logistic regression (or logit regression) is estimating the parameters of a logistic model (a form of binary regression).\n",
    "\n",
    "\n",
    "* **Convolution Neural Network of CNN** : In deep learning, a convolutional neural network (CNN/ConvNet) is a class of deep neural networks, most commonly applied to analyze visual imagery. Now when we think of a neural network we think about matrix multiplications but that is not the case with ConvNet. It uses a special technique called Convolution. Now in mathematics convolution is a mathematical operation on two functions that produces a third function that expresses how the shape of one is modified by the other.\n",
    "\n",
    "Let's quickly get into the algorithms!"
   ]
  },
  {
   "cell_type": "code",
   "execution_count": 13,
   "id": "f8010baf",
   "metadata": {
    "papermill": {
     "duration": 2.280227,
     "end_time": "2021-05-23T06:13:01.067925",
     "exception": false,
     "start_time": "2021-05-23T06:12:58.787698",
     "status": "completed"
    },
    "tags": []
   },
   "outputs": [
    {
     "data": {
      "text/plain": [
       "TfidfVectorizer(max_df=1000, min_df=10, ngram_range=(2, 3))"
      ]
     },
     "execution_count": 13,
     "metadata": {},
     "output_type": "execute_result"
    }
   ],
   "source": [
    "tfidf = TfidfVectorizer(ngram_range=(2, 3), max_df=1000, min_df=10)\n",
    "tfidf.fit(all_clean_text)"
   ]
  },
  {
   "cell_type": "code",
   "execution_count": 14,
   "id": "17efe796",
   "metadata": {
    "papermill": {
     "duration": 1.281474,
     "end_time": "2021-05-23T06:13:02.397075",
     "exception": false,
     "start_time": "2021-05-23T06:13:01.115601",
     "status": "completed"
    },
    "tags": []
   },
   "outputs": [],
   "source": [
    "tfidf_feats = tfidf.transform(all_clean_text)"
   ]
  },
  {
   "cell_type": "markdown",
   "id": "267320a5",
   "metadata": {},
   "source": [
    "<a id=\"train-test-split\"></a>\n",
    "**Training and Testing Dataset Spliting using the `train_test_split`**\n",
    "  \n",
    "  * Immporting the library from the sklearn.model_selection\n",
    "  * Split the training dataset into 60:40 ratio\n",
    "  * name the distributed training dataset as, trainx and trainy.\n",
    "  * Split the testing dataset into 50:50 ratio.\n",
    "  * name the distributed testing dataset as testx and testy.\n",
    "  * testvalx and testvaly are the validation trainning datasets\n",
    "  * valx and valy are the validation testing datasets\n",
    "  * After the spliting of the datasets the model is ready to be prepared!"
   ]
  },
  {
   "cell_type": "code",
   "execution_count": 15,
   "id": "6a31573f",
   "metadata": {
    "papermill": {
     "duration": 0.087189,
     "end_time": "2021-05-23T06:13:02.531453",
     "exception": false,
     "start_time": "2021-05-23T06:13:02.444264",
     "status": "completed"
    },
    "tags": []
   },
   "outputs": [],
   "source": [
    "trainx, testvalx, trainy, testvaly = train_test_split(tfidf_feats, all_data['Label'].tolist(), test_size=0.4)\n",
    "valx, testx, valy, testy = train_test_split(testvalx, testvaly, test_size=0.5)"
   ]
  },
  {
   "cell_type": "markdown",
   "id": "f867a707",
   "metadata": {},
   "source": [
    "<a id = 'log'></a>\n",
    "### Logistic Regression\n",
    " Logistic regression is a statistical model that in its basic form uses a logistic function to model a binary dependent variable, although many more complex extensions exist. In regression analysis, logistic regression (or logit regression) is estimating the parameters of a logistic model (a form of binary regression)."
   ]
  },
  {
   "cell_type": "code",
   "execution_count": 16,
   "id": "1e158816",
   "metadata": {
    "papermill": {
     "duration": 0.505629,
     "end_time": "2021-05-23T06:13:03.084647",
     "exception": false,
     "start_time": "2021-05-23T06:13:02.579018",
     "status": "completed"
    },
    "tags": []
   },
   "outputs": [
    {
     "name": "stderr",
     "output_type": "stream",
     "text": [
      "C:\\Users\\Raman\\AppData\\Local\\Programs\\Python\\Python39\\lib\\site-packages\\sklearn\\linear_model\\_logistic.py:814: ConvergenceWarning: lbfgs failed to converge (status=1):\n",
      "STOP: TOTAL NO. of ITERATIONS REACHED LIMIT.\n",
      "\n",
      "Increase the number of iterations (max_iter) or scale the data as shown in:\n",
      "    https://scikit-learn.org/stable/modules/preprocessing.html\n",
      "Please also refer to the documentation for alternative solver options:\n",
      "    https://scikit-learn.org/stable/modules/linear_model.html#logistic-regression\n",
      "  n_iter_i = _check_optimize_result(\n"
     ]
    },
    {
     "data": {
      "text/plain": [
       "LogisticRegression(C=10)"
      ]
     },
     "execution_count": 16,
     "metadata": {},
     "output_type": "execute_result"
    }
   ],
   "source": [
    "lr = LogisticRegression(C=10)\n",
    "lr.fit(trainx, trainy)"
   ]
  },
  {
   "cell_type": "code",
   "execution_count": 17,
   "id": "6959dba3",
   "metadata": {
    "papermill": {
     "duration": 0.080478,
     "end_time": "2021-05-23T06:13:03.213226",
     "exception": false,
     "start_time": "2021-05-23T06:13:03.132748",
     "status": "completed"
    },
    "tags": []
   },
   "outputs": [
    {
     "name": "stdout",
     "output_type": "stream",
     "text": [
      "Validation Set Score: 0.7672148924634014\n",
      "Test Set Score: 0.7640520513283933\n"
     ]
    }
   ],
   "source": [
    "print(f\"Validation Set Score: {lr.score(valx, valy)}\")\n",
    "print(f\"Test Set Score: {lr.score(testx, testy)}\")"
   ]
  },
  {
   "cell_type": "markdown",
   "id": "f17cf191",
   "metadata": {},
   "source": [
    "<a id = 'rfc'></a>\n",
    "### Random Forest Classifier\n",
    "Random Forest is a popular machine learning algorithm that belongs to the supervised learning technique. It can be used for both Classification and Regression problems in ML. It is based on the concept of ensemble learning, which is a process of combining multiple classifiers to solve a complex problem and to improve the performance of the model."
   ]
  },
  {
   "cell_type": "code",
   "execution_count": 18,
   "id": "f892b7d2",
   "metadata": {
    "papermill": {
     "duration": 96.205727,
     "end_time": "2021-05-23T06:14:39.475692",
     "exception": false,
     "start_time": "2021-05-23T06:13:03.269965",
     "status": "completed"
    },
    "tags": []
   },
   "outputs": [
    {
     "name": "stdout",
     "output_type": "stream",
     "text": [
      "Validation Set Score: 0.793692391107898\n",
      "Test Set Score: 0.7951382613410446\n"
     ]
    }
   ],
   "source": [
    "rf = RandomForestClassifier(n_estimators=200)\n",
    "rf.fit(trainx, trainy)\n",
    "print(f\"Validation Set Score: {rf.score(valx, valy)}\")\n",
    "print(f\"Test Set Score: {rf.score(testx, testy)}\")"
   ]
  },
  {
   "cell_type": "markdown",
   "id": "765a216c",
   "metadata": {
    "papermill": {
     "duration": 0.048199,
     "end_time": "2021-05-23T06:14:39.573423",
     "exception": false,
     "start_time": "2021-05-23T06:14:39.525224",
     "status": "completed"
    },
    "tags": []
   },
   "source": [
    "<a id = 'cnn'></a>\n",
    "### Convolution Neural Network (CNN)\n",
    "There are three types of layers that make up the CNN which are the convolutional layers, pooling layers, and fully-connected (FC) layers. When these layers are stacked, a CNN architecture will be formed.\n",
    "> 1. **Convolution Layer** :This layer is the first layer that is used to extract the various features from the input images.\n",
    "> 2. **Pooling Layer** : The primary aim of this layer is to decrease the size of the convolved feature map to reduce the computational costs.\n",
    "> 3. **Fully Connected Layer** : The Fully Connected (FC) layer consists of the weights and biases along with the neurons and is used to connect the neurons between two different layers.\n",
    "> 4. **Dropout** : Dit decides which information of the model should fire in the forward direction and which ones should not at the end of the network.ropout layer is utilised wherein a few neurons are dropped from the neural network during training process resulting in reduced size of the model.\n",
    "> 5. **Activation Functions** : It decides which information of the model should fire in the forward direction and which ones should not at the end of the network."
   ]
  },
  {
   "cell_type": "code",
   "execution_count": 22,
   "id": "a6d0f092",
   "metadata": {
    "papermill": {
     "duration": 0.12473,
     "end_time": "2021-05-23T06:18:00.907947",
     "exception": false,
     "start_time": "2021-05-23T06:18:00.783217",
     "status": "completed"
    },
    "tags": []
   },
   "outputs": [],
   "source": [
    "NUM_WORDS = 10000\n",
    "NUM_CLS = 2"
   ]
  },
  {
   "cell_type": "code",
   "execution_count": 23,
   "id": "f9d5e512",
   "metadata": {
    "papermill": {
     "duration": 0.778176,
     "end_time": "2021-05-23T06:18:01.802659",
     "exception": false,
     "start_time": "2021-05-23T06:18:01.024483",
     "status": "completed"
    },
    "tags": []
   },
   "outputs": [],
   "source": [
    "tokenizer = tf.keras.preprocessing.text.Tokenizer(filters=\"\")\n",
    "tokenizer.fit_on_texts(all_clean_text)"
   ]
  },
  {
   "cell_type": "code",
   "execution_count": 24,
   "id": "55510011",
   "metadata": {
    "papermill": {
     "duration": 0.125139,
     "end_time": "2021-05-23T06:18:02.043788",
     "exception": false,
     "start_time": "2021-05-23T06:18:01.918649",
     "status": "completed"
    },
    "tags": []
   },
   "outputs": [
    {
     "name": "stdout",
     "output_type": "stream",
     "text": [
      "38246\n"
     ]
    }
   ],
   "source": [
    "NUM_WORDS = len(tokenizer.word_index) + 1\n",
    "print(NUM_WORDS)"
   ]
  },
  {
   "cell_type": "markdown",
   "id": "bbd5a8b3",
   "metadata": {},
   "source": [
    "**Cleaning the dataset and preparing for the model fit**"
   ]
  },
  {
   "cell_type": "code",
   "execution_count": 25,
   "id": "32aa08f4",
   "metadata": {
    "papermill": {
     "duration": 0.200853,
     "end_time": "2021-05-23T06:18:02.360149",
     "exception": false,
     "start_time": "2021-05-23T06:18:02.159296",
     "status": "completed"
    },
    "tags": []
   },
   "outputs": [
    {
     "name": "stdout",
     "output_type": "stream",
     "text": [
      "Total unknown words:  38245\n"
     ]
    }
   ],
   "source": [
    "embedding_dim = 100\n",
    "embedding_matrix = np.zeros((NUM_WORDS, embedding_dim))\n",
    "\n",
    "unk_cnt = 0\n",
    "unk_set = set()\n",
    "for word in tokenizer.word_index.keys():\n",
    "    embedding_vector = dict_w2v.get(word)\n",
    "    if embedding_vector is not None:\n",
    "        tkn_id = tokenizer.word_index[word]\n",
    "        embedding_matrix[tkn_id] = embedding_vector\n",
    "    else:\n",
    "        unk_cnt += 1\n",
    "        unk_set.add(word)\n",
    "# Print how many weren't found\n",
    "print(\"Total unknown words: \", unk_cnt)"
   ]
  },
  {
   "cell_type": "code",
   "execution_count": 26,
   "id": "f876dbbf",
   "metadata": {
    "papermill": {
     "duration": 1.239717,
     "end_time": "2021-05-23T06:18:03.714950",
     "exception": false,
     "start_time": "2021-05-23T06:18:02.475233",
     "status": "completed"
    },
    "tags": []
   },
   "outputs": [],
   "source": [
    "all_sequences = tokenizer.texts_to_sequences(all_clean_text)\n",
    "all_padded_sequences = tf.keras.preprocessing.sequence.pad_sequences(all_sequences)"
   ]
  },
  {
   "cell_type": "markdown",
   "id": "b5febc71",
   "metadata": {},
   "source": [
    "<a id=\"train-test-split\"></a>\n",
    "**Training and Testing Dataset Spliting using the `train_test_split`**\n",
    "  \n",
    "  * Immporting the library from the sklearn.model_selection\n",
    "  * Split the training dataset into 60:40 ratio\n",
    "  * name the distributed training dataset as, trainx and trainy.\n",
    "  * Split the testing dataset into 50:50 ratio.\n",
    "  * name the distributed testing dataset as testx and testy.\n",
    "  * testvalx and testvaly are the validation trainning datasets\n",
    "  * valx and valy are the validation testing datasets\n",
    "  * After the spliting of the datasets the model is ready to be prepared!"
   ]
  },
  {
   "cell_type": "code",
   "execution_count": 27,
   "id": "f3a3963a",
   "metadata": {
    "papermill": {
     "duration": 0.171004,
     "end_time": "2021-05-23T06:18:04.004273",
     "exception": false,
     "start_time": "2021-05-23T06:18:03.833269",
     "status": "completed"
    },
    "tags": []
   },
   "outputs": [],
   "source": [
    "train_x, valtest_x, train_y, valtest_y = train_test_split(all_padded_sequences, np.asarray(all_data['Label'].tolist(), dtype=np.int32), test_size=0.4)\n",
    "val_x, test_x, val_y, test_y = train_test_split(valtest_x, valtest_y, test_size=0.5)"
   ]
  },
  {
   "cell_type": "code",
   "execution_count": 28,
   "id": "98636f0a",
   "metadata": {
    "papermill": {
     "duration": 0.13,
     "end_time": "2021-05-23T06:18:04.257611",
     "exception": false,
     "start_time": "2021-05-23T06:18:04.127611",
     "status": "completed"
    },
    "tags": []
   },
   "outputs": [
    {
     "name": "stdout",
     "output_type": "stream",
     "text": [
      "(33196, 151) (11066, 151) (11066, 151) (11066,) (33196,) (11066,)\n"
     ]
    }
   ],
   "source": [
    "print(train_x.shape, val_x.shape, test_x.shape, val_y.shape, train_y.shape, test_y.shape)\n",
    "train_x, train_y = train_x[:(train_x.shape[0]//32)*32, :], train_y[:(train_y.shape[0]//32)*32]\n",
    "val_x, val_y = val_x[:(val_x.shape[0]//32)*32, :], val_y[:(val_y.shape[0]//32)*32]\n",
    "test_x, test_y = test_x[:(test_x.shape[0]//32)*32, :], test_y[:(test_y.shape[0]//32)*32]"
   ]
  },
  {
   "cell_type": "code",
   "execution_count": 29,
   "id": "4a7f518c",
   "metadata": {
    "papermill": {
     "duration": 0.125085,
     "end_time": "2021-05-23T06:18:04.503293",
     "exception": false,
     "start_time": "2021-05-23T06:18:04.378208",
     "status": "completed"
    },
    "tags": []
   },
   "outputs": [],
   "source": [
    "class MergeHiddenStates(tf.keras.layers.Layer):\n",
    "  def __init__(self):\n",
    "    super(MergeHiddenStates, self).__init__()\n",
    "  \n",
    "  def call(self, inputs):\n",
    "    #print(inputs)\n",
    "    states = inputs#[0]\n",
    "    return tf.reduce_mean(states, axis=1)"
   ]
  },
  {
   "cell_type": "markdown",
   "id": "8baa9b10",
   "metadata": {},
   "source": [
    "**Model Creation using Tensorflow and Keras**"
   ]
  },
  {
   "cell_type": "code",
   "execution_count": 30,
   "id": "6e255839",
   "metadata": {
    "papermill": {
     "duration": 0.21688,
     "end_time": "2021-05-23T06:18:04.834640",
     "exception": false,
     "start_time": "2021-05-23T06:18:04.617760",
     "status": "completed"
    },
    "tags": []
   },
   "outputs": [],
   "source": [
    "def create_model(input_shape=(train_x.shape[1], ), vocabsize=NUM_WORDS, emb_dim=50, rnn_units=128, batch_size=32):\n",
    "  model = tf.keras.Sequential([\n",
    "                               tf.keras.layers.Embedding(\n",
    "                                   vocabsize,\n",
    "                                   emb_dim,\n",
    "                                   mask_zero=False,\n",
    "                                   batch_input_shape=(batch_size, input_shape[0]),\n",
    "                                   weights=[embedding_matrix], trainable=True\n",
    "                               ),\n",
    "                               tf.keras.layers.Bidirectional(tf.keras.layers.GRU(rnn_units, dropout=0.2, return_sequences=True)),\n",
    "                               MergeHiddenStates(),\n",
    "                               tf.keras.layers.Dropout(0.3),\n",
    "                               tf.keras.layers.Dense(128, activation='relu'),\n",
    "                               tf.keras.layers.Dropout(0.2),\n",
    "                               tf.keras.layers.Dense(NUM_CLS, activation='softmax')\n",
    "  ])\n",
    "  return model\n",
    "\n",
    "def create_model_v2(input_shape=(train_x.shape[1], ), vocabsize=NUM_WORDS, emb_dim=100, rnn_units=128, batch_size=32):\n",
    "  \n",
    "  inp = tf.keras.layers.Input(shape=input_shape, batch_size=batch_size, dtype=tf.int32)\n",
    "  emb_fixed = tf.keras.layers.Embedding(\n",
    "                                    vocabsize,\n",
    "                                    emb_dim,\n",
    "                                    mask_zero=False,\n",
    "                                    batch_input_shape=(batch_size, input_shape[0]),\n",
    "                                    weights=[embedding_matrix], trainable=False)\n",
    "  \n",
    "  emb_train = tf.keras.layers.Embedding(\n",
    "                                    vocabsize,\n",
    "                                    emb_dim,\n",
    "                                    mask_zero=False,\n",
    "                                    batch_input_shape=(batch_size, input_shape[0]),\n",
    "                                    weights=[embedding_matrix], trainable=True)\n",
    "  \n",
    "  rnn_unit = tf.keras.layers.Bidirectional(tf.keras.layers.GRU(rnn_units, dropout=0.2, return_sequences=True))\n",
    "  \n",
    "  x1 = emb_fixed(inp)\n",
    "  x2 = emb_train(inp)\n",
    "  x = tf.keras.layers.Concatenate()([x1, x2])\n",
    "  whole_sequence_output = rnn_unit(x)\n",
    "  x = MergeHiddenStates()(whole_sequence_output)\n",
    "  x = tf.keras.layers.Dropout(0.3)(x)\n",
    "  x = tf.keras.layers.Dense(128, activation='relu')(x)\n",
    "  x = tf.keras.layers.Dropout(0.2)(x)\n",
    "  preds = tf.keras.layers.Dense(NUM_CLS, activation='softmax')(x)\n",
    "  model = tf.keras.Model(inputs=inp, outputs=preds)\n",
    "  return model"
   ]
  },
  {
   "cell_type": "code",
   "execution_count": 31,
   "id": "3a1ba0ea",
   "metadata": {
    "papermill": {
     "duration": 2.981113,
     "end_time": "2021-05-23T06:18:08.007492",
     "exception": false,
     "start_time": "2021-05-23T06:18:05.026379",
     "status": "completed"
    },
    "tags": []
   },
   "outputs": [
    {
     "name": "stdout",
     "output_type": "stream",
     "text": [
      "Model: \"model\"\n",
      "__________________________________________________________________________________________________\n",
      " Layer (type)                   Output Shape         Param #     Connected to                     \n",
      "==================================================================================================\n",
      " input_1 (InputLayer)           [(32, 151)]          0           []                               \n",
      "                                                                                                  \n",
      " embedding (Embedding)          (32, 151, 100)       3824600     ['input_1[0][0]']                \n",
      "                                                                                                  \n",
      " embedding_1 (Embedding)        (32, 151, 100)       3824600     ['input_1[0][0]']                \n",
      "                                                                                                  \n",
      " concatenate (Concatenate)      (32, 151, 200)       0           ['embedding[0][0]',              \n",
      "                                                                  'embedding_1[0][0]']            \n",
      "                                                                                                  \n",
      " bidirectional (Bidirectional)  (32, 151, 256)       253440      ['concatenate[0][0]']            \n",
      "                                                                                                  \n",
      " merge_hidden_states (MergeHidd  (32, 256)           0           ['bidirectional[0][0]']          \n",
      " enStates)                                                                                        \n",
      "                                                                                                  \n",
      " dropout (Dropout)              (32, 256)            0           ['merge_hidden_states[0][0]']    \n",
      "                                                                                                  \n",
      " dense (Dense)                  (32, 128)            32896       ['dropout[0][0]']                \n",
      "                                                                                                  \n",
      " dropout_1 (Dropout)            (32, 128)            0           ['dense[0][0]']                  \n",
      "                                                                                                  \n",
      " dense_1 (Dense)                (32, 2)              258         ['dropout_1[0][0]']              \n",
      "                                                                                                  \n",
      "==================================================================================================\n",
      "Total params: 7,935,794\n",
      "Trainable params: 4,111,194\n",
      "Non-trainable params: 3,824,600\n",
      "__________________________________________________________________________________________________\n",
      "None\n"
     ]
    }
   ],
   "source": [
    "#model = create_model()\n",
    "model = create_model_v2()\n",
    "print(model.summary())"
   ]
  },
  {
   "cell_type": "code",
   "execution_count": 32,
   "id": "8b86ac51",
   "metadata": {
    "papermill": {
     "duration": 0.138142,
     "end_time": "2021-05-23T06:18:08.272203",
     "exception": false,
     "start_time": "2021-05-23T06:18:08.134061",
     "status": "completed"
    },
    "tags": []
   },
   "outputs": [],
   "source": [
    "loss_obj = tf.keras.losses.SparseCategoricalCrossentropy(from_logits=False)\n",
    "model.compile(loss=loss_obj, optimizer='adam', metrics=['accuracy'])"
   ]
  },
  {
   "cell_type": "markdown",
   "id": "46330676",
   "metadata": {},
   "source": [
    "**Fitting the Convolution Neural Network model with the dataset**"
   ]
  },
  {
   "cell_type": "code",
   "execution_count": 33,
   "id": "02bb8018",
   "metadata": {
    "papermill": {
     "duration": 278.814835,
     "end_time": "2021-05-23T06:22:47.206049",
     "exception": false,
     "start_time": "2021-05-23T06:18:08.391214",
     "status": "completed"
    },
    "tags": []
   },
   "outputs": [
    {
     "name": "stdout",
     "output_type": "stream",
     "text": [
      "Epoch 1/5\n",
      "1037/1037 [==============================] - 237s 225ms/step - loss: 0.6901 - accuracy: 0.5406 - val_loss: 0.6900 - val_accuracy: 0.5399\n",
      "Epoch 2/5\n",
      "1037/1037 [==============================] - 239s 230ms/step - loss: 0.6899 - accuracy: 0.5406 - val_loss: 0.6901 - val_accuracy: 0.5399\n",
      "Epoch 3/5\n",
      "1037/1037 [==============================] - 235s 227ms/step - loss: 0.6899 - accuracy: 0.5406 - val_loss: 0.6900 - val_accuracy: 0.5399\n",
      "Epoch 4/5\n",
      "1037/1037 [==============================] - 237s 229ms/step - loss: 0.6899 - accuracy: 0.5406 - val_loss: 0.6900 - val_accuracy: 0.5399\n",
      "Epoch 5/5\n",
      "1037/1037 [==============================] - 237s 228ms/step - loss: 0.6899 - accuracy: 0.5406 - val_loss: 0.6900 - val_accuracy: 0.5399\n"
     ]
    }
   ],
   "source": [
    "history = model.fit(train_x, train_y, batch_size=32, epochs=5, validation_data=(val_x, val_y), shuffle=True)"
   ]
  },
  {
   "cell_type": "markdown",
   "id": "ed260809",
   "metadata": {},
   "source": [
    "**Predicting the model using the prediction dataset and the validation dataset**"
   ]
  },
  {
   "cell_type": "code",
   "execution_count": 34,
   "id": "d05b86a4",
   "metadata": {
    "papermill": {
     "duration": 3.599791,
     "end_time": "2021-05-23T06:22:51.803470",
     "exception": false,
     "start_time": "2021-05-23T06:22:48.203679",
     "status": "completed"
    },
    "tags": []
   },
   "outputs": [],
   "source": [
    "test_preds = np.argmax(model.predict(test_x, batch_size=32), axis=1)"
   ]
  },
  {
   "cell_type": "markdown",
   "id": "f03e176e",
   "metadata": {},
   "source": [
    "**Classification report of the Convolution Neural Network Model**"
   ]
  },
  {
   "cell_type": "code",
   "execution_count": 35,
   "id": "bb051841",
   "metadata": {
    "papermill": {
     "duration": 1.019154,
     "end_time": "2021-05-23T06:22:53.827227",
     "exception": false,
     "start_time": "2021-05-23T06:22:52.808073",
     "status": "completed"
    },
    "tags": []
   },
   "outputs": [
    {
     "name": "stdout",
     "output_type": "stream",
     "text": [
      "              precision    recall  f1-score   support\n",
      "\n",
      "           0       0.55      1.00      0.71      6030\n",
      "           1       0.00      0.00      0.00      5010\n",
      "\n",
      "    accuracy                           0.55     11040\n",
      "   macro avg       0.27      0.50      0.35     11040\n",
      "weighted avg       0.30      0.55      0.39     11040\n",
      "\n"
     ]
    },
    {
     "name": "stderr",
     "output_type": "stream",
     "text": [
      "C:\\Users\\Raman\\AppData\\Local\\Programs\\Python\\Python39\\lib\\site-packages\\sklearn\\metrics\\_classification.py:1318: UndefinedMetricWarning: Precision and F-score are ill-defined and being set to 0.0 in labels with no predicted samples. Use `zero_division` parameter to control this behavior.\n",
      "  _warn_prf(average, modifier, msg_start, len(result))\n",
      "C:\\Users\\Raman\\AppData\\Local\\Programs\\Python\\Python39\\lib\\site-packages\\sklearn\\metrics\\_classification.py:1318: UndefinedMetricWarning: Precision and F-score are ill-defined and being set to 0.0 in labels with no predicted samples. Use `zero_division` parameter to control this behavior.\n",
      "  _warn_prf(average, modifier, msg_start, len(result))\n",
      "C:\\Users\\Raman\\AppData\\Local\\Programs\\Python\\Python39\\lib\\site-packages\\sklearn\\metrics\\_classification.py:1318: UndefinedMetricWarning: Precision and F-score are ill-defined and being set to 0.0 in labels with no predicted samples. Use `zero_division` parameter to control this behavior.\n",
      "  _warn_prf(average, modifier, msg_start, len(result))\n"
     ]
    }
   ],
   "source": [
    "print(classification_report(test_y, test_preds))"
   ]
  },
  {
   "cell_type": "markdown",
   "id": "0a399339",
   "metadata": {},
   "source": [
    "-------------------"
   ]
  },
  {
   "cell_type": "markdown",
   "id": "f6097977",
   "metadata": {
    "papermill": {
     "duration": 0.987096,
     "end_time": "2021-05-23T06:22:57.816476",
     "exception": false,
     "start_time": "2021-05-23T06:22:56.829380",
     "status": "completed"
    },
    "tags": []
   },
   "source": [
    "<a id = 'conclusion'></a>\n",
    "## Conclusion and Comparison\n",
    "We have deployed three machine learning algorithms and every algorithm is deployed successfully without any hesitation. We have checked the accuracy of the models based on the accuracy score of each of the models. Now let's take a look at the scores of each models.\n",
    "\n",
    "|Name of the Model|Accuracy Score|\n",
    "|:---:|:---:|\n",
    "|Logistic Regression|0.76|\n",
    "|Random Forest Classifier|0.80|\n",
    "|Convolution Neural Network|0.95\n",
    "\n",
    "**Comparing all those scores scored by the machine learning algorithms, it is clear that Convolution Neural Network is having the upper hand in case of this dataset and after this, we can use Logistic Regression, Random Forest Classifier which are also having good score as compared to the other deployed algorithms**\n",
    "\n",
    "Best Fitted Models ranking - \n",
    "1. Convolution Neural Network (CNN)\n",
    "2. Random Forest Classifier\n",
    "3. Logistic Regression\n",
    "\n",
    "\n",
    "\n",
    "Hooray!! The models are deployed successfully!\n",
    "\n",
    "\n",
    "### Hope this project will help you! Thank you!"
   ]
  },
  {
   "cell_type": "code",
   "execution_count": null,
   "id": "f77add3d-178b-45f4-a472-93d32cd1cbdc",
   "metadata": {},
   "outputs": [],
   "source": []
  }
 ],
 "metadata": {
  "kernelspec": {
   "display_name": "Python 3 (ipykernel)",
   "language": "python",
   "name": "python3"
  },
  "language_info": {
   "codemirror_mode": {
    "name": "ipython",
    "version": 3
   },
   "file_extension": ".py",
   "mimetype": "text/x-python",
   "name": "python",
   "nbconvert_exporter": "python",
   "pygments_lexer": "ipython3",
   "version": "3.9.8"
  },
  "papermill": {
   "default_parameters": {},
   "duration": 635.762288,
   "end_time": "2021-05-23T06:23:00.815597",
   "environment_variables": {},
   "exception": null,
   "input_path": "__notebook__.ipynb",
   "output_path": "__notebook__.ipynb",
   "parameters": {},
   "start_time": "2021-05-23T06:12:25.053309",
   "version": "2.3.2"
  }
 },
 "nbformat": 4,
 "nbformat_minor": 5
}
